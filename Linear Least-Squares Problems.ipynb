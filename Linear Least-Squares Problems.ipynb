{
 "cells": [
  {
   "cell_type": "code",
   "execution_count": 1,
   "metadata": {},
   "outputs": [],
   "source": [
    "import numpy as np\n",
    "import matplotlib.pyplot as plt\n",
    "import scipy.optimize as op\n",
    "from matplotlib import cm\n",
    "\n",
    "t = np.matrix([[-9.0], \n",
    "               [-7.0], \n",
    "               [-4.0], \n",
    "               [-0.5], \n",
    "               [1.0], \n",
    "               [3.0], \n",
    "               [5.0], \n",
    "               [7.0], \n",
    "               [8.0], \n",
    "               [9.0], \n",
    "               [9.5], \n",
    "               [9.8]])\n",
    "\n",
    "y = np.matrix([[175.37], \n",
    "               [90.32], \n",
    "               [40.11], \n",
    "               [7.09], \n",
    "               [-13.91], \n",
    "               [19.76], \n",
    "               [65.17], \n",
    "               [144.24], \n",
    "               [204.97], \n",
    "               [287.09], \n",
    "               [340.38], \n",
    "               [367.47]])\n",
    "\n",
    "def findXnCoff(t):\n",
    "    xnCoff = np.matrix(np.zeros((t.shape[0], 3)))\n",
    "    xnCoff[:, 0] = np.exp(0.5 * t + 1)\n",
    "    xnCoff[:, 1] = np.power(t, 2)\n",
    "    xnCoff[:, 2] = 1\n",
    "    return xnCoff\n",
    "\n",
    "def f(x, t):\n",
    "    x = np.squeeze(np.asarray(x))\n",
    "    var = x[0] * np.exp(0.5 * t + 1) + x[1] * np.power(t, 2) + x[2]\n",
    "    return var"
   ]
  },
  {
   "cell_type": "markdown",
   "metadata": {
    "tags": [
     "Q1"
    ]
   },
   "source": [
    "The analytical form of the $j^{th}$ row of the Jacobi matrix is defined as follows:\n",
    "$$\n",
    "J(j,:)=\\left[\\begin{matrix} e^{0.5t_j+1}&  t_j^2&  1\\end{matrix}\\right].\n",
    "$$"
   ]
  },
  {
   "cell_type": "code",
   "execution_count": 2,
   "metadata": {
    "tags": [
     "Q2"
    ]
   },
   "outputs": [
    {
     "name": "stdout",
     "output_type": "stream",
     "text": [
      "Jacobi Matrix:\n",
      " [[3.01973834e-02 8.10000000e+01 1.00000000e+00]\n",
      " [8.20849986e-02 4.90000000e+01 1.00000000e+00]\n",
      " [3.67879441e-01 1.60000000e+01 1.00000000e+00]\n",
      " [2.11700002e+00 2.50000000e-01 1.00000000e+00]\n",
      " [4.48168907e+00 1.00000000e+00 1.00000000e+00]\n",
      " [1.21824940e+01 9.00000000e+00 1.00000000e+00]\n",
      " [3.31154520e+01 2.50000000e+01 1.00000000e+00]\n",
      " [9.00171313e+01 4.90000000e+01 1.00000000e+00]\n",
      " [1.48413159e+02 6.40000000e+01 1.00000000e+00]\n",
      " [2.44691932e+02 8.10000000e+01 1.00000000e+00]\n",
      " [3.14190660e+02 9.02500000e+01 1.00000000e+00]\n",
      " [3.65037468e+02 9.60400000e+01 1.00000000e+00]]\n"
     ]
    }
   ],
   "source": [
    "# Jacobi Matrix\n",
    "J = findXnCoff(t)\n",
    "print('Jacobi Matrix:\\n', J)"
   ]
  },
  {
   "cell_type": "code",
   "execution_count": 3,
   "metadata": {
    "tags": [
     "Q3"
    ]
   },
   "outputs": [
    {
     "name": "stdout",
     "output_type": "stream",
     "text": [
      "Normal Equation Solution:\n",
      " [[ 0.46179928]\n",
      " [ 2.17431745]\n",
      " [-4.48886173]]\n"
     ]
    }
   ],
   "source": [
    "#Normal Equation\n",
    "A = np.transpose(J) * J\n",
    "x = np.linalg.inv(A) * np.transpose(J) * y\n",
    "print('Normal Equation Solution:\\n', x)"
   ]
  },
  {
   "cell_type": "code",
   "execution_count": 4,
   "metadata": {
    "tags": [
     "Q4"
    ]
   },
   "outputs": [
    {
     "data": {
      "text/plain": [
       "[<matplotlib.lines.Line2D at 0x2e371fdedc0>,\n",
       " <matplotlib.lines.Line2D at 0x2e371fdee80>]"
      ]
     },
     "execution_count": 4,
     "metadata": {},
     "output_type": "execute_result"
    },
    {
     "data": {
      "image/png": "[encoded data removed]",
      "text/plain": [
       "<Figure size 432x288 with 1 Axes>"
      ]
     },
     "metadata": {
      "needs_background": "light"
     },
     "output_type": "display_data"
    }
   ],
   "source": [
    "tt = np.arange(-10, 10, 0.1)\n",
    "\n",
    "plt.plot(tt, f(x, tt), 'g', t, y, 'r.')"
   ]
  }
 ],
 "metadata": {
  "celltoolbar": "Tags",
  "kernelspec": {
   "display_name": "Python 3",
   "language": "python",
   "name": "python3"
  },
  "language_info": {
   "codemirror_mode": {
    "name": "ipython",
    "version": 3
   },
   "file_extension": ".py",
   "mimetype": "text/x-python",
   "name": "python",
   "nbconvert_exporter": "python",
   "pygments_lexer": "ipython3",
   "version": "3.8.5"
  }
 },
 "nbformat": 4,
 "nbformat_minor": 4
}
