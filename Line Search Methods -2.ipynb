{
 "cells": [
  {
   "cell_type": "code",
   "execution_count": 29,
   "metadata": {},
   "outputs": [],
   "source": [
    "import numpy as np\n",
    "import matplotlib.pyplot as plt\n",
    "\n",
    "GM = 2\n",
    "phi = (np.sqrt(5) + 1) / 2\n",
    "\n",
    "# input is numpy array\n",
    "# it is splitted into X and Y\n",
    "def J(XY):\n",
    "    x = XY[0]\n",
    "    y = XY[1]\n",
    "    var = 0.5 * ( x**2 + y**2 + x**2 + (y-100)**2 + GM * ( (x-50)**2 + y**2) )\n",
    "    return var\n",
    "def grJ(XY):\n",
    "    x = XY[0]\n",
    "    y = XY[1]\n",
    "    gradXY = np.array([2 * x + GM * (x-50), 2 * y - 100 + GM * y])\n",
    "    return gradXY"
   ]
  },
  {
   "cell_type": "code",
   "execution_count": 30,
   "metadata": {},
   "outputs": [],
   "source": [
    "hesMatrix = np.array([ [2 + GM, 0],[0, 2 + GM] ])\n",
    "\n",
    "\n",
    "invHesMatrix = np.linalg.inv(hesMatrix)\n",
    "\n",
    "X0  = np.array([0,0])\n",
    "\n",
    "gr1 = grJ(X0)\n",
    "\n",
    "ep = 10**-6\n",
    "\n",
    "iter = 0"
   ]
  },
  {
   "cell_type": "code",
   "execution_count": 31,
   "metadata": {},
   "outputs": [],
   "source": [
    "while np.linalg.norm(gr1) >= ep:\n",
    "    X1 = X0 - invHesMatrix.dot(gr1)\n",
    "    gr1 = grJ(X1)\n",
    "    X0 = X1\n",
    "    iter = iter + 1"
   ]
  },
  {
   "cell_type": "code",
   "execution_count": 32,
   "metadata": {},
   "outputs": [
    {
     "name": "stdout",
     "output_type": "stream",
     "text": [
      "Min Point [25. 25.], Gradient [0. 0.]: , Func Value: 5000.0, Iter: 1\n"
     ]
    }
   ],
   "source": [
    "print('Min Point {0}, Gradient {1}: , Func Value: {2}, Iter: {3}'.format(X1, gr1, J(X1), iter))"
   ]
  },
  {
   "cell_type": "code",
   "execution_count": null,
   "metadata": {},
   "outputs": [],
   "source": []
  }
 ],
 "metadata": {
  "kernelspec": {
   "display_name": "Python 3",
   "language": "python",
   "name": "python3"
  },
  "language_info": {
   "codemirror_mode": {
    "name": "ipython",
    "version": 3
   },
   "file_extension": ".py",
   "mimetype": "text/x-python",
   "name": "python",
   "nbconvert_exporter": "python",
   "pygments_lexer": "ipython3",
   "version": "3.8.5"
  }
 },
 "nbformat": 4,
 "nbformat_minor": 4
}
