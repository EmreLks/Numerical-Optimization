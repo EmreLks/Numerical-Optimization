{
 "cells": [
  {
   "cell_type": "code",
   "execution_count": 26,
   "metadata": {},
   "outputs": [],
   "source": [
    "import numpy as np\n",
    "import matplotlib.pyplot as plt\n",
    "\n",
    "GM = 2\n",
    "phi = (np.sqrt(5) + 1) / 2\n",
    "\n",
    "# input is numpy array\n",
    "# it is splitted into X and Y\n",
    "def J(XY):\n",
    "    x = XY[0]\n",
    "    y = XY[1]\n",
    "    var = 0.5 * ( x**2 + y**2 + x**2 + (y-100)**2 + GM * ( (x-50)**2 + y**2) )\n",
    "    return var\n",
    "def grJ(XY):\n",
    "    x = XY[0]\n",
    "    y = XY[1]\n",
    "    gradXY = np.array([2 * x + GM * (x-50), 2 * y - 100 + GM * y])\n",
    "    return gradXY\n",
    "\n",
    "# golden section search\n",
    "def gss(f, X, GR, a, b, tol = 1e-2):\n",
    "    c = b - (b - a) / phi\n",
    "    d = a + (b - a) / phi\n",
    "    \n",
    "    while np.abs(b - a) > tol:\n",
    "        if f(X + GR*c) < f(X + GR*d):\n",
    "            b = d\n",
    "        else:\n",
    "            a = c\n",
    "        \n",
    "        c = b - (b - a) / phi\n",
    "        d = a + (b - a) / phi\n",
    "    \n",
    "    return (b + a) / 2"
   ]
  },
  {
   "cell_type": "code",
   "execution_count": 27,
   "metadata": {},
   "outputs": [],
   "source": [
    "X0  = np.array([0,0])\n",
    "gr1 = grJ(X0)\n",
    "\n",
    "ep = 10**-6\n",
    "\n",
    "a = 0\n",
    "b = 5\n",
    "\n",
    "t = 0.1\n",
    "\n",
    "iter = 0"
   ]
  },
  {
   "cell_type": "code",
   "execution_count": 28,
   "metadata": {},
   "outputs": [],
   "source": [
    "while np.linalg.norm(gr1) >= ep:\n",
    "    X1 = X0 - t * gr1\n",
    "    gr1 = grJ(X1)\n",
    "    X0 = X1\n",
    "    \n",
    "    t = gss(J, X1, gr1, a, b)\n",
    "    iter = iter + 1"
   ]
  },
  {
   "cell_type": "code",
   "execution_count": 29,
   "metadata": {},
   "outputs": [
    {
     "name": "stdout",
     "output_type": "stream",
     "text": [
      "Min Point [25.00000005 25.00000005], Gradient [2.11950848e-07 2.11950848e-07]: , Func Value: 5000.0, Iter: 819\n"
     ]
    }
   ],
   "source": [
    "print('Min Point {0}, Gradient {1}: , Func Value: {2}, Iter: {3}'.format(X1, gr1, J(X1), iter))"
   ]
  },
  {
   "cell_type": "code",
   "execution_count": null,
   "metadata": {},
   "outputs": [],
   "source": []
  }
 ],
 "metadata": {
  "kernelspec": {
   "display_name": "Python 3",
   "language": "python",
   "name": "python3"
  },
  "language_info": {
   "codemirror_mode": {
    "name": "ipython",
    "version": 3
   },
   "file_extension": ".py",
   "mimetype": "text/x-python",
   "name": "python",
   "nbconvert_exporter": "python",
   "pygments_lexer": "ipython3",
   "version": "3.8.5"
  }
 },
 "nbformat": 4,
 "nbformat_minor": 4
}
