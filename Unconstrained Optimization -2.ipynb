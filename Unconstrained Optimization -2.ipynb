{
 "cells": [
  {
   "cell_type": "code",
   "execution_count": 26,
   "metadata": {
    "scrolled": true
   },
   "outputs": [
    {
     "data": {
      "text/plain": [
       "[<matplotlib.lines.Line2D at 0x1e65be06550>,\n",
       " <matplotlib.lines.Line2D at 0x1e65be06400>,\n",
       " <matplotlib.lines.Line2D at 0x1e65be06610>]"
      ]
     },
     "execution_count": 26,
     "metadata": {},
     "output_type": "execute_result"
    },
    {
     "data": {
      "image/png": "[encoded data removed]",
      "text/plain": [
       "<Figure size 432x288 with 1 Axes>"
      ]
     },
     "metadata": {
      "needs_background": "light"
     },
     "output_type": "display_data"
    }
   ],
   "source": [
    "import numpy as n\n",
    "import matplotlib.pyplot as plt\n",
    "\n",
    "NN = 100\n",
    "m = 3\n",
    "b = -2\n",
    "\n",
    "mu, sigma = 0, 0.5 # mean and standard deviation\n",
    "noise = np.random.normal(mu, sigma, NN)\n",
    "\n",
    "x = np.arange(-5, 5, 0.1)\n",
    "yN = 3 * x - 2 + noise\n",
    "y = 3 * x - 2\n",
    "\n",
    "bH = 0\n",
    "mH = 1\n",
    "\n",
    "mD = 0 # denominator of M\n",
    "mN = 0 # numerator of M\n",
    "\n",
    "for iter in range(1, 10):\n",
    "    for n in range(1, NN):\n",
    "        bH = bH + (yN[n] - mH * x[n] )\n",
    "    \n",
    "    bH = bH / NN\n",
    "    \n",
    "    for n in range(1, NN):\n",
    "        mN = mN + (yN[n] - bH) * x[n]\n",
    "        \n",
    "        mD = mD + x[n] * x[n]\n",
    "    \n",
    "    mH = mN / mD\n",
    "\n",
    "yH = mH * x + bH\n",
    "\n",
    "#  green line: y = 3x - 2, red line = 𝑦=𝑚̂𝑥+𝑏̂ , blue = noisy data\n",
    "plt.plot(x, y, 'g', x, yH, 'r--', x, yN, 'b:')\n"
   ]
  },
  {
   "cell_type": "code",
   "execution_count": null,
   "metadata": {},
   "outputs": [],
   "source": []
  }
 ],
 "metadata": {
  "kernelspec": {
   "display_name": "Python 3",
   "language": "python",
   "name": "python3"
  },
  "language_info": {
   "codemirror_mode": {
    "name": "ipython",
    "version": 3
   },
   "file_extension": ".py",
   "mimetype": "text/x-python",
   "name": "python",
   "nbconvert_exporter": "python",
   "pygments_lexer": "ipython3",
   "version": "3.8.5"
  }
 },
 "nbformat": 4,
 "nbformat_minor": 4
}
